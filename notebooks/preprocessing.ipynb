{
 "cells": [
  {
   "cell_type": "code",
   "execution_count": null,
   "metadata": {},
   "outputs": [],
   "source": [
    "import os\n",
    "import cv2\n",
    "import pandas as pd\n",
    "import numpy as np\n",
    "from tqdm import tqdm"
   ]
  },
  {
   "cell_type": "code",
   "execution_count": null,
   "metadata": {},
   "outputs": [],
   "source": [
    "# Set paths\n",
    "RAW_IMAGE_DIR = \"../data/\"  # Main dataset directory\n",
    "PREPROCESSED_IMAGE_DIR = \"../data/preprocessed_images/\"\n",
    "METADATA_PATH = \"../data/metadata1.csv\"\n",
    "\n",
    "# Create output folder if it doesn't exist\n",
    "os.makedirs(PREPROCESSED_IMAGE_DIR, exist_ok=True)\n",
    "\n",
    "# Load metadata\n",
    "metadata = pd.read_csv(METADATA_PATH)\n",
    "metadata.columns = metadata.columns.str.strip()  # Remove extra spaces"
   ]
  },
  {
   "cell_type": "code",
   "execution_count": null,
   "metadata": {},
   "outputs": [],
   "source": [
    "# Check if required columns exist\n",
    "required_columns = [\"File Location\", \"Number of Images\", \"Series Description\"]\n",
    "for col in required_columns:\n",
    "    if col not in metadata.columns:\n",
    "        raise ValueError(f\"❌ Column '{col}' not found in metadata! Available columns: {metadata.columns}\")\n"
   ]
  },
  {
   "cell_type": "code",
   "execution_count": null,
   "metadata": {},
   "outputs": [],
   "source": [
    "# Function to preprocess an image and save it in the same folder structure\n",
    "def preprocess_and_save(image_path, raw_folder_path, size=(256, 256)):\n",
    "    img = cv2.imread(image_path)\n",
    "    if img is None:\n",
    "        print(f\"⚠️ Error loading {image_path}\")\n",
    "        return False\n",
    "\n",
    "    # Resize image\n",
    "    img_resized = cv2.resize(img, size)\n",
    "\n",
    "    # Normalize (scale between 0-1)\n",
    "    img_normalized = img_resized / 255.0\n",
    "\n",
    "    # Create the corresponding output folder structure inside `PREPROCESSED_IMAGE_DIR`\n",
    "    save_folder = os.path.join(PREPROCESSED_IMAGE_DIR, raw_folder_path).replace(\"\\\\\", \"/\")\n",
    "    os.makedirs(save_folder, exist_ok=True)\n",
    "\n",
    "    # Save preprocessed image with the same filename in the correct folder\n",
    "    save_filename = os.path.basename(image_path).replace(\".dcm\", \"\")\n",
    "    save_file_path = os.path.join(save_folder, save_filename)\n",
    "    cv2.imwrite(save_file_path, (img_normalized * 255).astype(np.uint8))\n",
    "    \n",
    "    return True"
   ]
  },
  {
   "cell_type": "code",
   "execution_count": 10,
   "metadata": {},
   "outputs": [
    {
     "name": "stderr",
     "output_type": "stream",
     "text": [
      "  1%|▏         | 2/151 [00:03<04:41,  1.89s/it]"
     ]
    },
    {
     "name": "stdout",
     "output_type": "stream",
     "text": [
      "⏩ Skipping scout/topogram images in: ../data/./TCGA-BLCA/TCGA-4Z-AA7M/03-06-2007-NA-TX AS AI-91720/1.000000-SCOUT-38276\n"
     ]
    },
    {
     "name": "stderr",
     "output_type": "stream",
     "text": [
      " 13%|█▎        | 19/151 [00:39<02:10,  1.01it/s]"
     ]
    },
    {
     "name": "stdout",
     "output_type": "stream",
     "text": [
      "⚠️ Folder not found: ../data/./TCGA-BLCA/TCGA-4Z-AA7N/11-26-2003-NA-NA-94710/8.000000-CEVRVRCONTRASTETARDIOVR.1-83652\n"
     ]
    },
    {
     "name": "stderr",
     "output_type": "stream",
     "text": [
      " 15%|█▍        | 22/151 [00:43<02:33,  1.19s/it]"
     ]
    },
    {
     "name": "stdout",
     "output_type": "stream",
     "text": [
      "⏩ Skipping scout/topogram images in: ../data/./TCGA-BLCA/TCGA-4Z-AA7O/01-04-2007-NA-TX AS AI-25138/1.000000-SCOUT-20671\n"
     ]
    },
    {
     "name": "stderr",
     "output_type": "stream",
     "text": [
      " 23%|██▎       | 35/151 [01:18<07:37,  3.95s/it]"
     ]
    },
    {
     "name": "stdout",
     "output_type": "stream",
     "text": [
      "⏩ Skipping scout/topogram images in: ../data/./TCGA-BLCA/TCGA-4Z-AA7S/01-25-2004-NA-AbdomenABDOME4FASES Adult-41632/1.000000-Topogram  1.0  T20s-19709\n"
     ]
    },
    {
     "name": "stderr",
     "output_type": "stream",
     "text": [
      " 33%|███▎      | 50/151 [01:59<04:25,  2.63s/it]"
     ]
    },
    {
     "name": "stdout",
     "output_type": "stream",
     "text": [
      "⏩ Skipping scout/topogram images in: ../data/./TCGA-BLCA/TCGA-4Z-AA7W/05-30-2006-NA-AS AI-35286/1.000000-SCOUT-63727\n"
     ]
    },
    {
     "name": "stderr",
     "output_type": "stream",
     "text": [
      " 38%|███▊      | 57/151 [02:20<05:34,  3.55s/it]"
     ]
    },
    {
     "name": "stdout",
     "output_type": "stream",
     "text": [
      "⏩ Skipping scout/topogram images in: ../data/./TCGA-BLCA/TCGA-4Z-AA7Y/04-21-2004-NA-AS AI-61923/1.000000-SCOUT-42316\n"
     ]
    },
    {
     "name": "stderr",
     "output_type": "stream",
     "text": [
      " 42%|████▏     | 63/151 [02:40<05:08,  3.51s/it]"
     ]
    },
    {
     "name": "stdout",
     "output_type": "stream",
     "text": [
      "⏩ Skipping scout/topogram images in: ../data/./TCGA-BLCA/TCGA-4Z-AA80/11-02-2005-NA-TX AS-02162/1.000000-SCOUT-49434\n"
     ]
    },
    {
     "name": "stderr",
     "output_type": "stream",
     "text": [
      " 48%|████▊     | 72/151 [03:05<04:44,  3.60s/it]"
     ]
    },
    {
     "name": "stdout",
     "output_type": "stream",
     "text": [
      "⏩ Skipping scout/topogram images in: ../data/./TCGA-BLCA/TCGA-4Z-AA81/10-22-2003-NA-AbdomenABDOME2FASESVOL Adult-81889/1.000000-Topograma  1.0  T20s-57119\n"
     ]
    },
    {
     "name": "stderr",
     "output_type": "stream",
     "text": [
      " 50%|█████     | 76/151 [03:14<03:55,  3.14s/it]"
     ]
    },
    {
     "name": "stdout",
     "output_type": "stream",
     "text": [
      "⏩ Skipping scout/topogram images in: ../data/./TCGA-BLCA/TCGA-4Z-AA82/10-21-2003-NA-AbdomenABDOME2FASESVOL Adult-32850/1.000000-Topograma  1.0  T20s-43060\n"
     ]
    },
    {
     "name": "stderr",
     "output_type": "stream",
     "text": [
      " 52%|█████▏    | 79/151 [03:23<04:00,  3.34s/it]"
     ]
    },
    {
     "name": "stdout",
     "output_type": "stream",
     "text": [
      "⏩ Skipping scout/topogram images in: ../data/./TCGA-BLCA/TCGA-4Z-AA84/06-18-2003-NA-AbdomenABDOME2FASESVOL Adult-33223/1.000000-Topograma  1.0  T20s-77766\n"
     ]
    },
    {
     "name": "stderr",
     "output_type": "stream",
     "text": [
      " 54%|█████▍    | 82/151 [03:30<03:13,  2.80s/it]"
     ]
    },
    {
     "name": "stdout",
     "output_type": "stream",
     "text": [
      "⏩ Skipping scout/topogram images in: ../data/./TCGA-BLCA/TCGA-4Z-AA86/09-06-2003-NA-AbdomenABDOME2FASESVOL Adult-98157/1.000000-Topograma  1.0  T20s-35073\n"
     ]
    },
    {
     "name": "stderr",
     "output_type": "stream",
     "text": [
      " 76%|███████▌  | 115/151 [04:25<00:35,  1.02it/s]"
     ]
    },
    {
     "name": "stdout",
     "output_type": "stream",
     "text": [
      "⏩ Skipping scout/topogram images in: ../data/./TCGA-BLCA/TCGA-CU-A0YR/06-19-2002-NA-Outside Read or Comparison BODY CT-51773/1.000000-SCOUT-95517\n"
     ]
    },
    {
     "name": "stderr",
     "output_type": "stream",
     "text": [
      " 77%|███████▋  | 117/151 [04:26<00:31,  1.08it/s]"
     ]
    },
    {
     "name": "stdout",
     "output_type": "stream",
     "text": [
      "⏩ Skipping scout/topogram images in: ../data/./TCGA-BLCA/TCGA-CU-A0YR/08-16-2002-NA-CT ABDOMEN PELVIS W CONT-18645/1.000000-Topogram  0.6  T20s-64219\n"
     ]
    },
    {
     "name": "stderr",
     "output_type": "stream",
     "text": [
      " 79%|███████▉  | 120/151 [04:29<00:29,  1.03it/s]"
     ]
    },
    {
     "name": "stdout",
     "output_type": "stream",
     "text": [
      "⏩ Skipping scout/topogram images in: ../data/./TCGA-BLCA/TCGA-CU-A0YR/04-05-2002-NA-Outside Read or Comparison BODY CT-69013/1.000000-LAT SCOUT-69763\n"
     ]
    },
    {
     "name": "stderr",
     "output_type": "stream",
     "text": [
      " 81%|████████▏ | 123/151 [04:31<00:22,  1.27it/s]"
     ]
    },
    {
     "name": "stdout",
     "output_type": "stream",
     "text": [
      "⏩ Skipping scout/topogram images in: ../data/./TCGA-BLCA/TCGA-CU-A0YR/04-05-2002-NA-Outside Read or Comparison BODY CT-69013/2.000000-AP SCOUT-74880\n",
      "⏩ Skipping scout/topogram images in: ../data/./TCGA-BLCA/TCGA-CU-A3KJ/09-27-2003-NA-Outside Read or Comparison BODY CT-01276/1.000000-Topogram  1.0  T20s-96526\n"
     ]
    },
    {
     "name": "stderr",
     "output_type": "stream",
     "text": [
      " 85%|████████▌ | 129/151 [04:35<00:20,  1.06it/s]"
     ]
    },
    {
     "name": "stdout",
     "output_type": "stream",
     "text": [
      "⏩ Skipping scout/topogram images in: ../data/./TCGA-BLCA/TCGA-CU-A3KJ/06-20-2003-NA-Outside Read or Comparison BODY CT-82455/1.000000-Topogram  3.0  T20s-19456\n"
     ]
    },
    {
     "name": "stderr",
     "output_type": "stream",
     "text": [
      " 87%|████████▋ | 131/151 [04:37<00:17,  1.15it/s]"
     ]
    },
    {
     "name": "stdout",
     "output_type": "stream",
     "text": [
      "⏩ Skipping scout/topogram images in: ../data/./TCGA-BLCA/TCGA-CU-A3KJ/12-30-2003-NA-CT ABDOMEN PELVIS W CONT-40646/1.000000-Topogram  0.6  T20s-53524\n"
     ]
    },
    {
     "name": "stderr",
     "output_type": "stream",
     "text": [
      " 88%|████████▊ | 133/151 [04:37<00:11,  1.50it/s]"
     ]
    },
    {
     "name": "stdout",
     "output_type": "stream",
     "text": [
      "⏩ Skipping scout/topogram images in: ../data/./TCGA-BLCA/TCGA-CU-A3QU/11-13-2003-NA-IC CT ABD PELV W CONT-52249/1.000000-Topogram  0.6  T20s-81819\n"
     ]
    },
    {
     "name": "stderr",
     "output_type": "stream",
     "text": [
      " 89%|████████▉ | 135/151 [04:39<00:11,  1.43it/s]"
     ]
    },
    {
     "name": "stdout",
     "output_type": "stream",
     "text": [
      "⏩ Skipping scout/topogram images in: ../data/./TCGA-BLCA/TCGA-CU-A3QU/01-20-2004-NA-CT ABDOMEN PELVIS W CONT-29563/1.000000-Topogram  0.6  T20s-23763\n"
     ]
    },
    {
     "name": "stderr",
     "output_type": "stream",
     "text": [
      " 94%|█████████▍| 142/151 [04:47<00:09,  1.10s/it]"
     ]
    },
    {
     "name": "stdout",
     "output_type": "stream",
     "text": [
      "⏩ Skipping scout/topogram images in: ../data/./TCGA-BLCA/TCGA-CU-A3YL/04-03-2004-NA-CT ABDOMEN PELVIS W CONT-27209/1.000000-Topogram  0.6  T20s-05014\n"
     ]
    },
    {
     "name": "stderr",
     "output_type": "stream",
     "text": [
      " 96%|█████████▌| 145/151 [04:49<00:05,  1.17it/s]"
     ]
    },
    {
     "name": "stdout",
     "output_type": "stream",
     "text": [
      "⏩ Skipping scout/topogram images in: ../data/./TCGA-BLCA/TCGA-DK-A1A5/05-01-1998-NA-FORFILE CT ABD ANDOR PEL - CD-79352/1.000000-SCOUT-80224\n"
     ]
    },
    {
     "name": "stderr",
     "output_type": "stream",
     "text": [
      "100%|██████████| 151/151 [05:01<00:00,  1.99s/it]"
     ]
    },
    {
     "name": "stdout",
     "output_type": "stream",
     "text": [
      "✅ Image preprocessing complete! Preprocessed images saved in: ../data/preprocessed_images/\n"
     ]
    },
    {
     "name": "stderr",
     "output_type": "stream",
     "text": [
      "\n"
     ]
    }
   ],
   "source": [
    "# Process images from each folder\n",
    "for _, row in tqdm(metadata.iterrows(), total=len(metadata)):\n",
    "    raw_folder_path = row[\"File Location\"]  # Remove leading '.'\n",
    "    num_images = row[\"Number of Images\"]  # Expected number of images\n",
    "    series_desc = str(row[\"Series Description\"]).lower()  # Series description\n",
    "    \n",
    "    # Convert to correct folder structure\n",
    "    folder_path = os.path.join(RAW_IMAGE_DIR, raw_folder_path).replace(\"\\\\\", \"/\")\n",
    "\n",
    "    # Skip scout images or unnecessary scans\n",
    "    if \"scout\" in series_desc or \"topogram\" in series_desc:\n",
    "        print(f\"⏩ Skipping scout/topogram images in: {folder_path}\")\n",
    "        continue\n",
    "\n",
    "    # Process only if the folder exists\n",
    "    if os.path.exists(folder_path):\n",
    "        processed_count = 0  # Track number of processed images\n",
    "\n",
    "        # Loop through all image files in the folder\n",
    "        for image_file in os.listdir(folder_path):\n",
    "            image_path = os.path.join(folder_path, image_file).replace(\"\\\\\", \"/\")\n",
    "\n",
    "            # Process only PNG/JPG images\n",
    "            if image_file.lower().endswith((\".png\", \".jpg\", \".jpeg\")):\n",
    "                if preprocess_and_save(image_path, raw_folder_path):\n",
    "                    processed_count += 1\n",
    "\n",
    "        # Print warning if fewer images were processed than expected\n",
    "        if processed_count < num_images:\n",
    "            print(f\"⚠️ Warning: Processed {processed_count}/{num_images} images in {folder_path}\")\n",
    "\n",
    "    else:\n",
    "        print(f\"⚠️ Folder not found: {folder_path}\")\n",
    "\n",
    "print(\"✅ Image preprocessing complete! Preprocessed images saved in:\", PREPROCESSED_IMAGE_DIR)\n"
   ]
  }
 ],
 "metadata": {
  "kernelspec": {
   "display_name": "Python 3",
   "language": "python",
   "name": "python3"
  },
  "language_info": {
   "codemirror_mode": {
    "name": "ipython",
    "version": 3
   },
   "file_extension": ".py",
   "mimetype": "text/x-python",
   "name": "python",
   "nbconvert_exporter": "python",
   "pygments_lexer": "ipython3",
   "version": "3.12.0"
  }
 },
 "nbformat": 4,
 "nbformat_minor": 2
}
