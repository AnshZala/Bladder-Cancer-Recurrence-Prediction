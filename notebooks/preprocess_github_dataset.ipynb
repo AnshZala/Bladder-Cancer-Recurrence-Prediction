{
 "cells": [
  {
   "cell_type": "code",
   "execution_count": 2,
   "id": "3c8e5d6f",
   "metadata": {},
   "outputs": [],
   "source": [
    "import os\n",
    "import cv2\n",
    "from tqdm import tqdm"
   ]
  },
  {
   "cell_type": "code",
   "execution_count": 3,
   "id": "d8fda26a",
   "metadata": {},
   "outputs": [],
   "source": [
    "# Set paths\n",
    "SOURCE_DIR = \"../bladder_cancer_dataset\"  # Replace with your source folder path\n",
    "TARGET_DIR = \"../github_dataset\"  # Replace with your target folder path\n",
    "\n",
    "# Create target directory if it doesn't exist\n",
    "os.makedirs(TARGET_DIR, exist_ok=True)"
   ]
  },
  {
   "cell_type": "code",
   "execution_count": 4,
   "id": "a7c917a4",
   "metadata": {},
   "outputs": [],
   "source": [
    "def preprocess_and_save(image_path, target_path):\n",
    "    \"\"\"\n",
    "    Preprocess a single image and save it\n",
    "    \n",
    "    Args:\n",
    "        image_path (str): Path to source image\n",
    "        target_path (str): Path where processed image will be saved\n",
    "    \"\"\"\n",
    "    # Read image in grayscale\n",
    "    img = cv2.imread(image_path, cv2.IMREAD_GRAYSCALE)\n",
    "    if img is None:\n",
    "        print(f\"⚠️ Error loading {image_path}\")\n",
    "        return False\n",
    "\n",
    "    # Resize image using high-quality interpolation\n",
    "    img_resized = cv2.resize(img, (256, 256), interpolation=cv2.INTER_LANCZOS4)\n",
    "\n",
    "    # Save with maximum quality\n",
    "    cv2.imwrite(target_path, img_resized, [cv2.IMWRITE_PNG_COMPRESSION, 0])\n",
    "    return True\n",
    "\n",
    "# Get list of subfolders\n",
    "subfolders = [f for f in os.listdir(SOURCE_DIR) if os.path.isdir(os.path.join(SOURCE_DIR, f))]"
   ]
  },
  {
   "cell_type": "code",
   "execution_count": 5,
   "id": "194ee9b5",
   "metadata": {},
   "outputs": [
    {
     "name": "stderr",
     "output_type": "stream",
     "text": [
      "Processing tumour_image: 100%|██████████| 768/768 [00:12<00:00, 61.08it/s]\n",
      "Processing tumour_label: 100%|██████████| 768/768 [00:09<00:00, 79.16it/s]"
     ]
    },
    {
     "name": "stdout",
     "output_type": "stream",
     "text": [
      "✅ Image preprocessing complete! Preprocessed images saved in: ../github_dataset\n"
     ]
    },
    {
     "name": "stderr",
     "output_type": "stream",
     "text": [
      "\n"
     ]
    }
   ],
   "source": [
    "# Process each subfolder\n",
    "for subfolder in subfolders:\n",
    "    source_subfolder = os.path.join(SOURCE_DIR, subfolder)\n",
    "    target_subfolder = os.path.join(TARGET_DIR, subfolder)\n",
    "    \n",
    "    # Create corresponding target subfolder\n",
    "    os.makedirs(target_subfolder, exist_ok=True)\n",
    "    \n",
    "    # Get list of PNG files in the subfolder\n",
    "    image_files = [f for f in os.listdir(source_subfolder) if f.lower().endswith('.png')]\n",
    "    \n",
    "    # Process each image with progress bar\n",
    "    for image_file in tqdm(image_files, desc=f\"Processing {subfolder}\"):\n",
    "        source_path = os.path.join(source_subfolder, image_file)\n",
    "        target_path = os.path.join(target_subfolder, image_file)\n",
    "        \n",
    "        preprocess_and_save(source_path, target_path)\n",
    "\n",
    "print(f\"✅ Image preprocessing complete! Preprocessed images saved in: {TARGET_DIR}\")"
   ]
  }
 ],
 "metadata": {
  "kernelspec": {
   "display_name": ".venv",
   "language": "python",
   "name": "python3"
  },
  "language_info": {
   "codemirror_mode": {
    "name": "ipython",
    "version": 3
   },
   "file_extension": ".py",
   "mimetype": "text/x-python",
   "name": "python",
   "nbconvert_exporter": "python",
   "pygments_lexer": "ipython3",
   "version": "3.12.0"
  }
 },
 "nbformat": 4,
 "nbformat_minor": 5
}
